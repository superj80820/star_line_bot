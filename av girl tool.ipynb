{
 "cells": [
  {
   "cell_type": "markdown",
   "metadata": {},
   "source": [
    "## 預載資料"
   ]
  },
  {
   "cell_type": "code",
   "execution_count": null,
   "metadata": {},
   "outputs": [],
   "source": [
    "import requests\n",
    "import pandas\n",
    "import sqlite3 as lite\n",
    "from json import JSONDecoder\n",
    "#import cv2\n",
    "import time,os\n",
    "import numpy as np\n",
    "import random\n",
    "import sys,os\n",
    "import configparser as ConfigParser\n",
    "import requests\n",
    "import pandas\n",
    "import sqlite3 as lite\n",
    "from json import JSONDecoder\n",
    "import os,shutil,time\n",
    "import numpy as np  \n",
    "\n",
    "ini_data=ConfigParser.ConfigParser()\n",
    "ini_data.read('key.ini')\n",
    "\n",
    "key = ini_data.get('facepp','key')\n",
    "secret = ini_data.get('facepp','secret')\n"
   ]
  },
  {
   "cell_type": "markdown",
   "metadata": {},
   "source": [
    "## 創建faceset"
   ]
  },
  {
   "cell_type": "code",
   "execution_count": null,
   "metadata": {},
   "outputs": [],
   "source": [
    "http_url = \"https://api-cn.faceplusplus.com/facepp/v3/faceset/create\"\n",
    "data = {\"api_key\": key, \"api_secret\": secret, 'display_name':'FacesStore',\"outer_id\":\"line_bot_av_girl\"}\n",
    "\n",
    "response = requests.post(http_url, data=data)\n",
    "\n",
    "req_con = response.content.decode('utf-8')\n",
    "req_dict = JSONDecoder().decode(req_con)\n",
    "print(response)\n",
    "print(req_dict)"
   ]
  },
  {
   "cell_type": "markdown",
   "metadata": {},
   "source": [
    "## 製做facetoken"
   ]
  },
  {
   "cell_type": "code",
   "execution_count": null,
   "metadata": {},
   "outputs": [],
   "source": [
    "http_url = \"https://api-cn.faceplusplus.com/facepp/v3/detect\"\n",
    "\n",
    "name=[input('請輸入女優的名子：')]#人物名子\n",
    "ps=[input('請輸入女優的附註：')]\n",
    "filepath = input('請輸入女優的檔名：')+'.jpg'#人物檔案位置_一定要羅馬拼音\n",
    "logo=[input('請輸入logo網址：')]\n",
    "\n",
    "\n",
    "#######################先上傳判斷############################\n",
    "decide=1#try跳開\n",
    "count=0#失敗計數數量\n",
    "while decide:\n",
    "    time.sleep(1)\n",
    "    try:\n",
    "        data = {\"api_key\": key, \"api_secret\": secret}\n",
    "        files = {\"image_file\": open(filepath, \"rb\")}\n",
    "        response = requests.post(http_url, data=data, files=files)\n",
    "\n",
    "        req_con = response.content.decode('utf-8')\n",
    "        req_dict = JSONDecoder().decode(req_con)\n",
    "\n",
    "        print(req_dict)\n",
    "       \n",
    "        decide=0\n",
    "    except KeyError as e3:\n",
    "        count=count+1\n",
    "        print('field')\n",
    "        if count==8:\n",
    "            decide=0"
   ]
  },
  {
   "cell_type": "markdown",
   "metadata": {},
   "source": [
    "## 寫入資料庫程序"
   ]
  },
  {
   "cell_type": "code",
   "execution_count": null,
   "metadata": {},
   "outputs": [],
   "source": [
    "pinyin=[filepath[0:filepath.find('.jpg')]]\n",
    "face_token=[req_dict['faces'][0]['face_token']]\n",
    "\n",
    "av_data={'名子':name,'羅馬拼音':pinyin,'face_tokens':face_token,'附註':ps,'logo':logo}\n",
    "write=pandas.DataFrame(av_data)\n",
    "\n",
    "with lite.connect('av_data.sqlite') as db:\n",
    "    write.to_sql('face_search',con=db,if_exists='append')\n",
    "    \n",
    "with lite.connect('av_data.sqlite') as db:\n",
    "    read=pandas.read_sql_query('select * from face_search',con = db)"
   ]
  },
  {
   "cell_type": "markdown",
   "metadata": {},
   "source": [
    "## 在faceset裡面新增臉"
   ]
  },
  {
   "cell_type": "code",
   "execution_count": null,
   "metadata": {},
   "outputs": [],
   "source": [
    "http_url = \"https://api-cn.faceplusplus.com/facepp/v3/faceset/addface\"\n",
    "\n",
    "data = {\"api_key\": key, \"api_secret\": secret, \"outer_id\": \"line_bot_av_girl\",\"face_tokens\":'b50e099035902daff0a90213bf2be061'}\n",
    "\n",
    "response = requests.post(http_url, data=data)\n",
    "\n",
    "req_con = response.content.decode('utf-8')\n",
    "req_dict = JSONDecoder().decode(req_con)\n",
    "\n",
    "print(response)\n",
    "print(response.text)"
   ]
  },
  {
   "cell_type": "markdown",
   "metadata": {},
   "source": [
    "## 在faceset搜索"
   ]
  },
  {
   "cell_type": "code",
   "execution_count": null,
   "metadata": {},
   "outputs": [],
   "source": [
    "http_url = \"https://api-cn.faceplusplus.com/facepp/v3/search\"\n",
    "\n",
    "filepath = \"test.jpg\"\n",
    "\n",
    "data = {\"api_key\": key, \"api_secret\": secret, \"outer_id\": \"line_bot_av_girl\",\"return_result_count\":5}\n",
    "files = {\"image_file\": open(filepath, \"rb\")}\n",
    "response = requests.post(http_url, data=data, files=files)\n",
    "\n",
    "req_con = response.content.decode('utf-8')\n",
    "req_dict = JSONDecoder().decode(req_con)\n",
    "print(req_dict)\n",
    "\n",
    "\n",
    "#與資料庫名子匹配\n",
    "with lite.connect('av_data.sqlite') as db:\n",
    "    read=pandas.read_sql_query('select * from face_search',con = db)\n",
    "ans_name=read[read[\"face_tokens\"]==req_dict['results'][0]['face_token']].iloc[0,2]    \n",
    "if req_dict['results'][0]['confidence']>83:\n",
    "    word=\"我覺得是\"+ans_name+\"啦\\n\"+\"相似程度有%f\"%req_dict['results'][0]['confidence']\n",
    "else:\n",
    "    word=\"找不到相似的人 但可能是\"+ans_name+\"\\n\"+\"相似程度有%f\"%req_dict['results'][0]['confidence']"
   ]
  },
  {
   "cell_type": "markdown",
   "metadata": {},
   "source": [
    "## 搜尋全部的Faceset"
   ]
  },
  {
   "cell_type": "code",
   "execution_count": null,
   "metadata": {},
   "outputs": [],
   "source": [
    "http_url='https://api-cn.faceplusplus.com/facepp/v3/faceset/getfacesets'\n",
    "\n",
    "data={\"api_key\": key, \"api_secret\": secret}\n",
    "\n",
    "response = requests.post(http_url, data=data)\n",
    "req_con = response.content.decode('utf-8')\n",
    "req_dict = JSONDecoder().decode(req_con)\n",
    "print(response)"
   ]
  },
  {
   "cell_type": "code",
   "execution_count": null,
   "metadata": {},
   "outputs": [],
   "source": [
    "req_dict"
   ]
  },
  {
   "cell_type": "markdown",
   "metadata": {},
   "source": [
    "## 取得faceset列表"
   ]
  },
  {
   "cell_type": "code",
   "execution_count": null,
   "metadata": {},
   "outputs": [],
   "source": [
    "http_url = \"https://api-cn.faceplusplus.com/facepp/v3/faceset/getdetail\"\n",
    "\n",
    "data = {\"api_key\": key, \"api_secret\": secret, \"outer_id\": input('請輸入faceset名稱：'),'start':int(input('請輸入起始數字：'))}\n",
    "\n",
    "response = requests.post(http_url, data=data)\n",
    "\n",
    "req_con = response.content.decode('utf-8')\n",
    "req_dict = JSONDecoder().decode(req_con)\n",
    "print(response)\n",
    "print('檔案總數：'+str(req_dict['face_count']))\n",
    "print('回傳tokens數量：'+str(len(req_dict['face_tokens'])))\n",
    "\n"
   ]
  },
  {
   "cell_type": "markdown",
   "metadata": {},
   "source": [
    "## 伺服器比對電腦器"
   ]
  },
  {
   "cell_type": "code",
   "execution_count": null,
   "metadata": {},
   "outputs": [],
   "source": [
    "count=0\n",
    "check_face_tokens=[]\n",
    "with lite.connect('av_data.sqlite') as db:\n",
    "    read=pandas.read_sql_query('select * from face_search',con = db)\n",
    "for item_s in req_dict['face_tokens']:\n",
    "    for item_c in read['face_tokens'].tolist():\n",
    "        if item_s==item_c:\n",
    "            #print('電腦的:'+item_c+'||伺服器的:'+item_s)\n",
    "            count=count+1\n",
    "            check_face_tokens+=[item_s]\n",
    "print('電腦數量：'+str(len(read['face_tokens'].tolist()))+'伺服器數量：'+str(req_dict['face_count']))\n",
    "for item in check_face_tokens:\n",
    "    req_dict['face_tokens'].remove(item)\n",
    "print('計數次數：'+str(count))\n",
    "for item in req_dict['face_tokens']:\n",
    "    print('錯誤檔案：'+item)"
   ]
  },
  {
   "cell_type": "markdown",
   "metadata": {},
   "source": [
    "## 刪除faceset"
   ]
  },
  {
   "cell_type": "code",
   "execution_count": null,
   "metadata": {},
   "outputs": [],
   "source": [
    "http_url = \"https://api-cn.faceplusplus.com/facepp/v3/faceset/delete\"\n",
    "\n",
    "data = {\"api_key\": key, \"api_secret\": secret, \"outer_id\": input('請輸入要刪除的faceset名稱：'),\"check_empty\":0}\n",
    "\n",
    "response = requests.post(http_url, data=data)\n",
    "\n",
    "req_con = response.content.decode('utf-8')\n",
    "req_dict = JSONDecoder().decode(req_con)\n",
    "print(req_dict)\n",
    "\n",
    "\n"
   ]
  },
  {
   "cell_type": "markdown",
   "metadata": {},
   "source": [
    "## 刪除face"
   ]
  },
  {
   "cell_type": "code",
   "execution_count": null,
   "metadata": {},
   "outputs": [],
   "source": [
    "http_url = \"https://api-cn.faceplusplus.com/facepp/v3/faceset/removeface\"\n",
    "\n",
    "data = {\"api_key\": key, \"api_secret\": secret, \"face_tokens\": input('請輸入facetoken：'),'outer_id':'line_bot_av_girl'}\n",
    "\n",
    "response = requests.post(http_url, data=data)\n",
    "\n",
    "req_con = response.content.decode('utf-8')\n",
    "req_dict = JSONDecoder().decode(req_con)\n",
    "print(req_dict)\n",
    "\n",
    "\n"
   ]
  },
  {
   "cell_type": "markdown",
   "metadata": {},
   "source": [
    "## 以雲端表單新增女優資料\n",
    "使用email_python-to-excel@python-to-excel.iam.gserviceaccount.com"
   ]
  },
  {
   "cell_type": "code",
   "execution_count": null,
   "metadata": {},
   "outputs": [],
   "source": [
    "import math\n",
    "\n",
    "from imgurpython import ImgurClient#上傳圖片程序\n",
    "import time\n",
    "\n",
    "#畫圖程序\n",
    "import matplotlib.pyplot as plt\n",
    "import numpy as np\n",
    "#畫圖程序\n",
    "\n",
    "import example#c++連結\n",
    "import ctypes\n",
    "import pandas\n",
    "import requests\n",
    "from bs4 import BeautifulSoup\n",
    "\n",
    "import googlemaps\n",
    "from datetime import datetime\n",
    "\n",
    "from flask import Flask, request, abort\n",
    "\n",
    "from linebot import (\n",
    "    LineBotApi, WebhookHandler\n",
    ")\n",
    "from linebot.exceptions import (\n",
    "    InvalidSignatureError,LineBotApiError\n",
    ")\n",
    "from linebot.models import (\n",
    "    ImageCarouselColumn,ImageCarouselTemplate,CarouselColumn,CarouselTemplate,ImageMessage,MessageEvent, TextMessage, TextSendMessage,LocationMessage,FollowEvent,PostbackEvent,ImageSendMessage,FollowEvent,TemplateSendMessage,ButtonsTemplate,PostbackTemplateAction,MessageTemplateAction,URITemplateAction\n",
    ")\n",
    "\n",
    "#圖片辨識流程by face++\n",
    "import requests\n",
    "import pandas\n",
    "import sqlite3 as lite\n",
    "from json import JSONDecoder\n",
    "#圖片辨識流程by face++\n",
    "\n",
    "import os,shutil,cv2#資料移動相關\n",
    "\n",
    "####excel插件\n",
    "import sys\n",
    "import time\n",
    "import datetime\n",
    "import gspread\n",
    "from oauth2client.service_account import ServiceAccountCredentials as SAC\n",
    "####excel插件"
   ]
  },
  {
   "cell_type": "code",
   "execution_count": null,
   "metadata": {},
   "outputs": [],
   "source": [
    "GDriveJSON = 'python to excel-c35aea97a97b.json'\n",
    "GSpreadSheet = 'AV女優資料庫'\n",
    "\n",
    "try:\n",
    "    scope = ['https://spreadsheets.google.com/feeds']\n",
    "    key = SAC.from_json_keyfile_name(GDriveJSON, scope)\n",
    "    gc = gspread.authorize(key)\n",
    "    sh = gc.open('AV女優資料庫')\n",
    "\n",
    "except Exception as ex:\n",
    "    print('無法連線Google試算表', ex)\n",
    "    sys.exit(1)"
   ]
  },
  {
   "cell_type": "code",
   "execution_count": null,
   "metadata": {},
   "outputs": [],
   "source": [
    "worksheet = sh.worksheet(\"2010年出道 AV女優列表\")"
   ]
  },
  {
   "cell_type": "code",
   "execution_count": null,
   "metadata": {},
   "outputs": [],
   "source": [
    "for_excel_count=worksheet.range('B52:B52')"
   ]
  },
  {
   "cell_type": "code",
   "execution_count": null,
   "metadata": {},
   "outputs": [],
   "source": [
    "len(for_excel_count)"
   ]
  },
  {
   "cell_type": "code",
   "execution_count": null,
   "metadata": {},
   "outputs": [],
   "source": [
    "excel_count=0\n",
    "for item in for_excel_count:\n",
    "    print(excel_data[0+excel_count].value+'_'+excel_data[1+excel_count].value+'_'+excel_data[2+excel_count].value)\n",
    "    \n",
    "    cli_name=excel_data[0+excel_count].value\n",
    "    cli_av_file_name=excel_data[1+excel_count].value\n",
    "    cli_web=excel_data[2+excel_count].value\n",
    "    \n",
    "    excel_count=excel_count+3"
   ]
  },
  {
   "cell_type": "code",
   "execution_count": null,
   "metadata": {},
   "outputs": [],
   "source": [
    "excel_count=0\n",
    "for item in for_excel_count:\n",
    "    print(excel_data[0+excel_count].value+'_'+excel_data[1+excel_count].value+'_'+excel_data[2+excel_count].value)\n",
    "    \n",
    "    cli_name=excel_data[0+excel_count].value\n",
    "    cli_av_file_name=excel_data[1+excel_count].value\n",
    "    cli_web=excel_data[2+excel_count].value\n",
    "    \n",
    "    excel_count=excel_count+3\n",
    "    #建立女優資料##################################\n",
    "    key = \"B2LK45DwbvhBhz6NFcja5q4m3182NMmk\"\n",
    "    secret = \"h3jMXHC-fc0aXdcuo_cQOQBERuICfZHA\"\n",
    "\n",
    "    name=[cli_name]#人物名子\n",
    "    ps=['']#人物附註\n",
    "    av_file_name=cli_av_file_name+'.jpg'#人物檔名 一定要羅馬拼音\n",
    "\n",
    "    #製作女優資料夾\n",
    "    try:\n",
    "        os.mkdir('av_girl_data/'+name[0])\n",
    "    except FileExistsError as e:\n",
    "        None\n",
    "    #製作女優資料夾\n",
    "\n",
    "    #製作女優圖片\n",
    "    response=requests.get(cli_web,stream=True)\n",
    "    print(response)\n",
    "\n",
    "    with open(av_file_name,'wb') as f:\n",
    "        f.write(response.content)\n",
    "    #製作女優圖片\n",
    "\n",
    "    #製作女優圖片檔名排序\n",
    "    dir_file=os.listdir('av_girl_data/'+name[0])\n",
    "    file_name=[]\n",
    "    for item in dir_file:\n",
    "        file_name+=[int(item[item.find('_')+1:item.find('.jpg')])]\n",
    "    if file_name==[]:\n",
    "        file_name=[0]\n",
    "    #製作女優圖片檔名排序\n",
    "\n",
    "    #移動圖片\n",
    "    file_end='av_girl_data/'+name[0]+'/'+av_file_name[0:av_file_name.find('.jpg')]+'_'+str(max(file_name)+1)+'.jpg'\n",
    "    shutil.move(av_file_name,file_end)\n",
    "    #移動圖片\n",
    "\n",
    "    ##########################################################################\n",
    "\n",
    "    #製作facetoken######################先上傳判斷############################\n",
    "    http_url = \"https://api-cn.faceplusplus.com/facepp/v3/detect\"\n",
    "\n",
    "    decide=1#try跳開\n",
    "    count=0#失敗計數數量\n",
    "    while decide:\n",
    "        time.sleep(1)\n",
    "        try:\n",
    "            with  open(file_end, \"rb\") as f:\n",
    "                data = {\"api_key\": key, \"api_secret\": secret}\n",
    "                files = {\"image_file\": f}\n",
    "                response = requests.post(http_url, data=data, files=files)\n",
    "\n",
    "                req_con = response.content.decode('utf-8')\n",
    "                req_dict = JSONDecoder().decode(req_con)\n",
    "\n",
    "                print(req_dict)\n",
    "                print('人臉數量'+str(len(req_dict['faces'])))\n",
    "                decide=0\n",
    "        except KeyError as e3:\n",
    "            count=count+1\n",
    "            print('field')\n",
    "            if count==8:\n",
    "                decide=0\n",
    "    #######################先上傳判斷############################\n",
    "\n",
    "\n",
    "    #######################將剪裁上傳############################\n",
    "    if len(req_dict['faces'])==1:#判斷圖片是否只有一人\n",
    "        left=req_dict['faces'][0]['face_rectangle']['left']\n",
    "        top=req_dict['faces'][0]['face_rectangle']['top']\n",
    "        width=req_dict['faces'][0]['face_rectangle']['width']\n",
    "        height=req_dict['faces'][0]['face_rectangle']['height']\n",
    "\n",
    "        tri=10#方框加回來\n",
    "\n",
    "        #讓opencv可以讀中文路徑\n",
    "        def cv_imread(filePath):  \n",
    "            cv_img=cv2.imdecode(np.fromfile(filePath,dtype=np.uint8),-1)  \n",
    "            ## imdecode读取的是rgb，如果后续需要opencv处理的话，需要转换成bgr，转换后图片颜色会变化  \n",
    "            ##cv_img=cv2.cvtColor(cv_img,cv2.COLOR_RGB2BGR)  \n",
    "            return cv_img  \n",
    "        #讓opencv可以讀中文路徑\n",
    "\n",
    "        #讀取\n",
    "        image = cv_imread(file_end)\n",
    "        #剪裁 因為錯誤剪取所以取消\n",
    "        #cv2.imencode('.jpg',image[top-tri: top+height+tri,left-tri:left+width+tri])[1].tofile(file_end)  \n",
    "        #剪裁後讀取 因為錯誤剪取所以取消\n",
    "        #image = cv_imread(file_end)\n",
    "\n",
    "        decide=1#try跳開\n",
    "        count=0#失敗計數數量\n",
    "        while decide:\n",
    "            time.sleep(1)\n",
    "            try:\n",
    "                data = {\"api_key\": key, \"api_secret\": secret}\n",
    "                files = {\"image_file\": open(file_end, \"rb\")}\n",
    "                response = requests.post(http_url, data=data, files=files)\n",
    "\n",
    "                req_con = response.content.decode('utf-8')\n",
    "                req_dict = JSONDecoder().decode(req_con)\n",
    "\n",
    "                print(req_dict)\n",
    "                print('人臉數量'+str(len(req_dict['faces'])))\n",
    "                decide=0\n",
    "            except KeyError as e3:\n",
    "                count=count+1\n",
    "                print('field')\n",
    "                if count==8:\n",
    "                    decide=0\n",
    "        ##製作facetoken######################將剪裁上傳############################\n",
    "\n",
    "        #紀錄資料庫程序\n",
    "        pinyin=[av_file_name[0:av_file_name.find('.jpg')]]\n",
    "        face_token=[req_dict['faces'][0]['face_token']]\n",
    "        \n",
    "        #logo檢查程序 如果有就增加 沒有就空白\n",
    "        with lite.connect('av_data.sqlite') as db:\n",
    "            read=pandas.read_sql_query('select * from face_search',con = db)\n",
    "            if sum(read[\"名子\"]==name[0])!=0:\n",
    "                logo=read[read[\"名子\"]==name[0]].iloc[0,6]\n",
    "            else:\n",
    "                logo=''\n",
    "        #logo檢查程序 如果有就增加 沒有就空白\n",
    "\n",
    "        av_data={'名子':name,'羅馬拼音':pinyin,'face_tokens':face_token,'附註':ps,'檔名':[av_file_name[0:av_file_name.find('.jpg')]+'_'+str(max(file_name)+1)+'.jpg'],'logo':[logo]}\n",
    "        write=pandas.DataFrame(av_data)\n",
    "\n",
    "        print('=======================================')\n",
    "\n",
    "        #在faceset裡面新增臉\n",
    "        http_url = \"https://api-cn.faceplusplus.com/facepp/v3/faceset/addface\"\n",
    "\n",
    "        decide=1#try跳開\n",
    "        count=0#失敗計數數量\n",
    "        while decide:\n",
    "            time.sleep(1)\n",
    "            try:\n",
    "                data = {\"api_key\": key, \"api_secret\": secret, \"outer_id\": \"line_bot_av_girl\",\"face_tokens\":face_token[0]}\n",
    "\n",
    "                print('確認'+face_token[0])\n",
    "\n",
    "                response = requests.post(http_url, data=data)\n",
    "\n",
    "                req_con = response.content.decode('utf-8')\n",
    "                req_dict = JSONDecoder().decode(req_con)\n",
    "\n",
    "                print(response)\n",
    "                print(response.text)\n",
    "\n",
    "                #寫入資料程序(成功上傳再寫入)\n",
    "                with lite.connect('av_data.sqlite') as db:\n",
    "                    write.to_sql('face_search',con=db,if_exists='append')\n",
    "\n",
    "                with lite.connect('av_data.sqlite') as db:\n",
    "                    read=pandas.read_sql_query('select * from face_search',con = db)\n",
    "                    print('網路人臉數量:'+str(eval(response.text)[\"face_count\"]))\n",
    "                    print('伺服器人臉數量:'+str(len(read['檔名'].tolist())))\n",
    "\n",
    "                decide=0\n",
    "            except KeyError as e3:\n",
    "                count=count+1\n",
    "                print('field')\n",
    "                if count==8:\n",
    "                    decide=0\n",
    "\n",
    "        #電腦顯示存檔位置\n",
    "        print('以成功'+file_end)\n",
    "\n",
    "    else:\n",
    "        #電腦告知錯誤人數\n",
    "        print('圖片人數超過一人')\n",
    "        os.remove(file_end)\n",
    "        print('已刪除')\n",
    "\n",
    "    #建立女優資料##################################\n",
    "    \n",
    "    #避免伺服器當掉 休息\n",
    "    time.sleep(3)\n",
    "    \n",
    "    \n",
    "    "
   ]
  },
  {
   "cell_type": "code",
   "execution_count": null,
   "metadata": {},
   "outputs": [],
   "source": [
    "print('計數:'+str(excel_count))\n",
    "print('伺服器長度:'+str(len(excel_data)))\n",
    "print('比對是否成功:'+str(excel_count==len(excel_data)))"
   ]
  },
  {
   "cell_type": "markdown",
   "metadata": {},
   "source": [
    "## 女優logo產生器"
   ]
  },
  {
   "cell_type": "code",
   "execution_count": null,
   "metadata": {},
   "outputs": [],
   "source": [
    "import math\n",
    "\n",
    "from imgurpython import ImgurClient#上傳圖片程序\n",
    "import time\n",
    "\n",
    "#畫圖程序\n",
    "import matplotlib.pyplot as plt\n",
    "import numpy as np\n",
    "#畫圖程序\n",
    "\n",
    "import example#c++連結\n",
    "import ctypes\n",
    "import pandas\n",
    "import requests\n",
    "from bs4 import BeautifulSoup\n",
    "\n",
    "import googlemaps\n",
    "from datetime import datetime\n",
    "\n",
    "from flask import Flask, request, abort\n",
    "\n",
    "from linebot import (\n",
    "    LineBotApi, WebhookHandler\n",
    ")\n",
    "from linebot.exceptions import (\n",
    "    InvalidSignatureError,LineBotApiError\n",
    ")\n",
    "from linebot.models import (\n",
    "    ImageCarouselColumn,ImageCarouselTemplate,CarouselColumn,CarouselTemplate,ImageMessage,MessageEvent, TextMessage, TextSendMessage,LocationMessage,FollowEvent,PostbackEvent,ImageSendMessage,FollowEvent,TemplateSendMessage,ButtonsTemplate,PostbackTemplateAction,MessageTemplateAction,URITemplateAction\n",
    ")\n",
    "\n",
    "#圖片辨識流程by face++\n",
    "import requests\n",
    "import pandas\n",
    "import sqlite3 as lite\n",
    "from json import JSONDecoder\n",
    "#圖片辨識流程by face++\n",
    "\n",
    "import os,shutil,cv2#資料移動相關"
   ]
  },
  {
   "cell_type": "code",
   "execution_count": null,
   "metadata": {},
   "outputs": [],
   "source": [
    "with lite.connect('av_data.sqlite') as db:\n",
    "    read=pandas.read_sql_query('select * from face_search',con = db)"
   ]
  },
  {
   "cell_type": "code",
   "execution_count": null,
   "metadata": {},
   "outputs": [],
   "source": [
    "with lite.connect('av_data.sqlite') as db:\n",
    "    read=pandas.read_sql_query('select * from face_search',con = db)\n",
    "            \n",
    "    av_name=list(set(read[read['logo']=='']['名子'].tolist()))\n",
    "    "
   ]
  },
  {
   "cell_type": "code",
   "execution_count": null,
   "metadata": {},
   "outputs": [],
   "source": [
    "av_name"
   ]
  },
  {
   "cell_type": "code",
   "execution_count": null,
   "metadata": {},
   "outputs": [],
   "source": [
    "#新增全部\n",
    "web=''\n",
    "for item in av_name:\n",
    "    if web!='no':\n",
    "        print('目前女優:'+item+'\\n')\n",
    "        print(\"{0}\".format('https://www.google.com.tw/search?q='+item+'+dmm'+'&source=lnms&tbm=isch')+'\\n')\n",
    "        web=input('logo網址:')\n",
    "        if web!='no':\n",
    "            with lite.connect('av_data.sqlite') as db:\n",
    "                db.cursor().execute('UPDATE face_search set logo = \"'+web+'\" where 名子=\"'+item+'\"')\n"
   ]
  },
  {
   "cell_type": "code",
   "execution_count": null,
   "metadata": {},
   "outputs": [],
   "source": [
    "#只單純新增一人\n",
    "item=input('輸入女優:')\n",
    "print('目前女優:'+item+'\\n')\n",
    "print(\"{0}\".format('https://www.google.com.tw/search?q='+item+'&source=lnms&tbm=isch')+'\\n')\n",
    "web=input('logo網址:')\n",
    "with lite.connect('av_data.sqlite') as db:\n",
    "    db.cursor().execute('UPDATE face_search set logo = \"'+web+'\" where 名子=\"'+item+'\"')"
   ]
  },
  {
   "cell_type": "code",
   "execution_count": null,
   "metadata": {},
   "outputs": [],
   "source": [
    "with lite.connect('av_data.sqlite') as db:\n",
    "    read=pandas.read_sql_query('select * from face_search',con = db)"
   ]
  },
  {
   "cell_type": "code",
   "execution_count": null,
   "metadata": {},
   "outputs": [],
   "source": [
    "read"
   ]
  },
  {
   "cell_type": "markdown",
   "metadata": {},
   "source": [
    "## 資料庫女優檢查器"
   ]
  },
  {
   "cell_type": "code",
   "execution_count": null,
   "metadata": {
    "scrolled": true
   },
   "outputs": [],
   "source": [
    "av_girl=os.listdir('av_girl_data')\n",
    "\n",
    "av_girl.remove('失敗紀錄等等資訊.txt')\n",
    "av_girl.remove('Client')\n",
    "av_girl.remove('sure')\n",
    "av_girl.remove('not_sure')\n",
    "av_girl.remove('備份')\n",
    "av_girl.remove('修正錯誤之後的圖片資料(未加入)')\n",
    "\n",
    "av_name={}\n",
    "for item in av_girl:\n",
    "    av_name[item]=len(os.listdir('av_girl_data/'+item))\n",
    "    \n",
    "with lite.connect('av_data.sqlite') as db:\n",
    "    read=pandas.read_sql_query('select * from face_search',con = db)\n",
    "    \n",
    "sql_name=read.groupby(by=['名子'])  \n",
    "sql_name=sql_name.size().to_dict()\n",
    "count=1\n",
    "for item in av_name:\n",
    "    try:\n",
    "        if av_name[item]==sql_name[item]:\n",
    "            None\n",
    "        else:\n",
    "            print(item+'　數量錯誤')\n",
    "            print('資料夾擁有：'+str(av_name[item]))\n",
    "            print('資料庫擁有：'+str(sql_name[item]))\n",
    "    except KeyError as e1:\n",
    "        print(item+'：沒有這個資料庫')\n",
    "        \n",
    "print('資料夾數量：'+str(len(av_name))+'\\n資料庫數量：'+str(len(sql_name)))"
   ]
  },
  {
   "cell_type": "markdown",
   "metadata": {},
   "source": [
    "## 女優辨識數量抓取器"
   ]
  },
  {
   "cell_type": "code",
   "execution_count": null,
   "metadata": {},
   "outputs": [],
   "source": [
    "av_girl=os.listdir('av_girl_data/not_sure')"
   ]
  },
  {
   "cell_type": "code",
   "execution_count": null,
   "metadata": {},
   "outputs": [],
   "source": [
    "av_girl[0].split('_')[0]"
   ]
  },
  {
   "cell_type": "code",
   "execution_count": null,
   "metadata": {},
   "outputs": [],
   "source": [
    "av_girl"
   ]
  },
  {
   "cell_type": "code",
   "execution_count": null,
   "metadata": {},
   "outputs": [],
   "source": [
    "count=int(0)\n",
    "name=[]\n",
    "for item in av_girl:\n",
    "    \n",
    "    name+=[item.split('_')[0]]\n",
    "    name\n",
    "        \n",
    "    count+=1"
   ]
  },
  {
   "cell_type": "code",
   "execution_count": null,
   "metadata": {},
   "outputs": [],
   "source": [
    "name"
   ]
  },
  {
   "cell_type": "code",
   "execution_count": null,
   "metadata": {},
   "outputs": [],
   "source": [
    "myset = set(name)\n",
    "for item in myset:\n",
    "    print(' %s 有%d次' %(item,name.count(item)))\n"
   ]
  },
  {
   "cell_type": "markdown",
   "metadata": {},
   "source": [
    "## 資料庫重複資料刪除器"
   ]
  },
  {
   "cell_type": "code",
   "execution_count": null,
   "metadata": {},
   "outputs": [],
   "source": [
    "with lite.connect('av_data.sqlite') as db:\n",
    "    read=pandas.read_sql_query('select * from face_search',con = db)"
   ]
  },
  {
   "cell_type": "code",
   "execution_count": null,
   "metadata": {},
   "outputs": [],
   "source": [
    "for item in read['face_tokens'].tolist():\n",
    "    try:\n",
    "        if sum((read['face_tokens']==item).tolist())>1:\n",
    "\n",
    "            #刪除重複資料(全部)\n",
    "            with lite.connect('av_data.sqlite') as db:\n",
    "                db.cursor().execute('delete from face_search where face_tokens=\"'+item+'\"')\n",
    "            \n",
    "            face_token=read[read['face_tokens']==item].iloc[0,1]\n",
    "            name=read[read['face_tokens']==item].iloc[0,2]\n",
    "            av_file_name=read[read['face_tokens']==item].iloc[0,3]\n",
    "            pinyin=read[read['face_tokens']==item].iloc[0,4]\n",
    "            ps=read[read['face_tokens']==item].iloc[0,5]\n",
    "            logo=read[read['face_tokens']==item].iloc[0,6]\n",
    "\n",
    "            av_data={'名子':[name],'羅馬拼音':[pinyin],'face_tokens':[face_token],'附註':[ps],'檔名':[av_file_name],'logo':[logo]}\n",
    "            write=pandas.DataFrame(av_data)\n",
    "            #將資料回存(一筆)\n",
    "            with lite.connect('av_data.sqlite') as db:\n",
    "                write.to_sql('face_search',con=db,if_exists='append')\n",
    "    except KeyError as e:\n",
    "        None"
   ]
  },
  {
   "cell_type": "code",
   "execution_count": null,
   "metadata": {},
   "outputs": [],
   "source": [
    "with lite.connect('av_data.sqlite') as db:\n",
    "    read=pandas.read_sql_query('select * from face_search',con = db)"
   ]
  },
  {
   "cell_type": "code",
   "execution_count": null,
   "metadata": {},
   "outputs": [],
   "source": [
    "read"
   ]
  }
 ],
 "metadata": {
  "kernelspec": {
   "display_name": "Python 3",
   "language": "python",
   "name": "python3"
  },
  "language_info": {
   "codemirror_mode": {
    "name": "ipython",
    "version": 3
   },
   "file_extension": ".py",
   "mimetype": "text/x-python",
   "name": "python",
   "nbconvert_exporter": "python",
   "pygments_lexer": "ipython3",
   "version": "3.6.4"
  }
 },
 "nbformat": 4,
 "nbformat_minor": 2
}
